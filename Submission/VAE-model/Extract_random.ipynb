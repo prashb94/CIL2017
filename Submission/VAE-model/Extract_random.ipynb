{
 "cells": [
  {
   "cell_type": "code",
   "execution_count": 1,
   "metadata": {
    "collapsed": true
   },
   "outputs": [],
   "source": [
    "import os\n",
    "import os.path\n",
    "import csv\n",
    "import sys\n",
    "import numpy as np\n",
    "import PIL.Image"
   ]
  },
  {
   "cell_type": "code",
   "execution_count": 2,
   "metadata": {
    "collapsed": true
   },
   "outputs": [],
   "source": [
    "def csv_to_dict(csv_path):\n",
    "    with open(csv_path,'r') as fp:\n",
    "        csv_fp=csv.reader(fp)\n",
    "        next(csv_fp)\n",
    "        d = dict(filter(None, csv_fp))\n",
    "        return d"
   ]
  },
  {
   "cell_type": "code",
   "execution_count": 28,
   "metadata": {},
   "outputs": [
    {
     "name": "stdout",
     "output_type": "stream",
     "text": [
      "['1.6336298801' '1.1875116935' '0.9198169199' ..., '3.1298542650'\n",
      " '1.3061614904' '1.3870857574']\n"
     ]
    }
   ],
   "source": [
    "# Pick Random Scores\n",
    "\n",
    "data_path=\"D:\\ETH\\ETHCS\\CIL\\Project\\Cosmology\\cosmology_aux_data_170429\"\n",
    "\n",
    "# Paths\n",
    "scored_path=os.path.join(data_path,\"scored\")\n",
    "scored_file=os.path.join(data_path,\"scored.csv\")\n",
    "\n",
    "# Initialization\n",
    "scored_dict=csv_to_dict(scored_file)\n",
    "scores=list(scored_dict.values())\n",
    "print(np.random.choice(scores,1200))\n",
    "rand_scores=np.random.choice(scores,1200)\n",
    "rand_scores.tofile(\"scores.txt\",sep=\"\\n\",format=\"%s\")"
   ]
  },
  {
   "cell_type": "code",
   "execution_count": 18,
   "metadata": {
    "collapsed": true
   },
   "outputs": [],
   "source": [
    "# Convert labeled data to scored\n",
    "\n",
    "data_path=\"D:\\ETH\\ETHCS\\CIL\\Project\\Cosmology\\cosmology_aux_data_170429\"\n",
    "\n",
    "# Paths\n",
    "label_path=os.path.join(data_path,\"labeled\")\n",
    "label_file=os.path.join(data_path,\"labeled.csv\")\n",
    "\n",
    "label_dict=csv_to_dict(label_file)\n",
    "img_prefixes=list(label_dict.keys())\n",
    "img_prefixes_galaxy = dict((k, v) for k, v in label_dict.items() if float(v)==1.0)\n",
    "img_prefixes_galaxy_keys = list(img_prefixes_galaxy.keys())\n",
    "with open(\"lm.csv\",\"w\") as ofile:\n",
    "    for idx in range(len(img_prefixes_galaxy)):\n",
    "        ofile.write(img_prefixes_galaxy_keys[idx] + \",\" + \"3.6975\" + \"\\n\")\n",
    "        #raw_image=PIL.Image.open(os.path.join(label_path,\"{}.png\".format(img_prefixes_galaxy_keys[idx])))\n",
    "        #raw_image.save(r\"C:\\Users\\Prashanth\\$Development\\Merged\\{}.png\".format(img_prefixes_galaxy_keys[idx]))\n"
   ]
  }
 ],
 "metadata": {
  "kernelspec": {
   "display_name": "Python 3",
   "language": "python",
   "name": "python3"
  },
  "language_info": {
   "codemirror_mode": {
    "name": "ipython",
    "version": 3
   },
   "file_extension": ".py",
   "mimetype": "text/x-python",
   "name": "python",
   "nbconvert_exporter": "python",
   "pygments_lexer": "ipython3",
   "version": "3.5.3"
  }
 },
 "nbformat": 4,
 "nbformat_minor": 2
}
